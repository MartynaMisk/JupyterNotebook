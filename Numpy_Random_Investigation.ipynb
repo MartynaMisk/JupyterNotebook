{
 "cells": [
  {
   "cell_type": "markdown",
   "metadata": {},
   "source": [
    "# Numpy.Random Package Investigation\n",
    "Programming for Data Analysis; Assignment 2018"
   ]
  },
  {
   "cell_type": "markdown",
   "metadata": {},
   "source": [
    "### Overview of the areas of investigation:\n",
    "In this jupyter notebook I will focus my investigation on following areas:\n",
    "1. Explanation of the overall purpose of the package Numpy.Random. \n",
    "2. Explanation of the use of the “Simple random data” and “Permutations” functions. \n",
    "3. Explanation of the use and purpose of at least ﬁve “Distributions” functions. \n",
    "4. Explanation of the use of seeds in generating pseudorandom numbers.\n",
    "\n",
    "###### Above four tasks will be clearly exaplined below to my best knowledge using code to showcase the numpy.random data package."
   ]
  },
  {
   "cell_type": "markdown",
   "metadata": {},
   "source": [
    "#### 1. Expalanation of the overall purpose of the package Numpy.Random.\n",
    "\n",
    "numpy.random package is a sub-package of the NumPy package in Python. NumPy represents numerical python manipulation of data. NumPy biggets advantage is that it perfoms calculation over entire arrays. numpy.random package main purpose is to generate sequence of random numbers, this package contains different functions that allows you to do it. In this Notebook I will focus on how those functions within numpy.random package operate and generate sequence of random numbers. numpy.random uses its own PRNG (Pseudorandom number generator)that is separate from plain old random which I found very interesting. \n",
    "\n",
    "Random sampling (numpy.random) package contains simple random data, permutations, distributions and random generator sections and each contains a number of functions that help us understand numpy.random package. \n",
    "\n"
   ]
  },
  {
   "cell_type": "code",
   "execution_count": 4,
   "metadata": {},
   "outputs": [],
   "source": [
    "#to import an image I need the Python package\n",
    "from IPython.display import Image"
   ]
  },
  {
   "cell_type": "code",
   "execution_count": 10,
   "metadata": {},
   "outputs": [
    {
     "data": {
      "image/jpeg": "[encoded data removed]",
      "text/plain": [
       "<IPython.core.display.Image object>"
      ]
     },
     "execution_count": 10,
     "metadata": {
      "image/jpeg": {
       "height": 200,
       "width": 400
      }
     },
     "output_type": "execute_result"
    }
   ],
   "source": [
    "img_path = 'C:/Users/I333202/Desktop/img/numpylogo.jpg'\n",
    "Image(img_path, width=400, height=200)"
   ]
  },
  {
   "cell_type": "markdown",
   "metadata": {},
   "source": [
    "##### 2. Explain the use of the “Simple random data” and “Permutations” functions.\n",
    "\n",
    "Simple random data sections contains different functions that return ranodm integers in different size,length, shape, low to high inclusice etc. Below code will represent few of the functions that helped me understand simple random data generation section. Permutations sections contains 'numpy.random.shuffle' and 'numpy.random.permutation' functions; both perform similar function where 'numpy.random.shuffle' changes the numpy array in place where 'numpy.random.permutation' doesn’t change when an integers that is passed thought it."
   ]
  },
  {
   "cell_type": "code",
   "execution_count": 58,
   "metadata": {},
   "outputs": [],
   "source": [
    "import numpy as np"
   ]
  },
  {
   "cell_type": "code",
   "execution_count": 59,
   "metadata": {
    "scrolled": false
   },
   "outputs": [
    {
     "data": {
      "text/plain": [
       "array([[0.07092445, 0.72828957, 0.9524639 , 0.67335123, 0.00713237],\n",
       "       [0.7626408 , 0.00570761, 0.01076227, 0.17841549, 0.56232467],\n",
       "       [0.21883922, 0.84744779, 0.66529762, 0.92793743, 0.5303968 ],\n",
       "       [0.15948429, 0.38833906, 0.8693461 , 0.61847738, 0.5042376 ]])"
      ]
     },
     "execution_count": 59,
     "metadata": {},
     "output_type": "execute_result"
    }
   ],
   "source": [
    "np.random.rand(4,5) #generates 4 lines and 5 columns of array between 0 and 1 in no particular order. \n",
    "#Everytime the code is ran the output changes the array of numbers."
   ]
  },
  {
   "cell_type": "code",
   "execution_count": 58,
   "metadata": {},
   "outputs": [
    {
     "data": {
      "text/plain": [
       "array([[3, 3, 3, 4],\n",
       "       [1, 1, 3, 3]])"
      ]
     },
     "execution_count": 58,
     "metadata": {},
     "output_type": "execute_result"
    }
   ],
   "source": [
    "np.random.randint(5, size=(2,4))#This generates numbers between 0 and 5 in no order in 2 array and 4 columns.\n",
    "#randint function has half-open interval [low, high], and 0 is the lowest value if high is omitted."
   ]
  },
  {
   "cell_type": "code",
   "execution_count": 56,
   "metadata": {},
   "outputs": [],
   "source": [
    "#This example is of rolling two six sided dice 1000 times and summing up the results in a histogram.\n",
    "d1 = np.random.randint(1, 6, 1000) \n",
    "d2 = np.random.randint(1, 6, 1000) \n",
    "dsums = d1 + d2\n",
    "#Below I will display the result in a histogram."
   ]
  },
  {
   "cell_type": "code",
   "execution_count": 57,
   "metadata": {},
   "outputs": [
    {
     "data": {
      "image/png": "[encoded data removed]",
      "text/plain": [
       "<Figure size 432x288 with 1 Axes>"
      ]
     },
     "metadata": {
      "needs_background": "light"
     },
     "output_type": "display_data"
    }
   ],
   "source": [
    "import matplotlib.pyplot as plt \n",
    "count, bins, ignored = plt.hist(dsums, 11, density=True)\n",
    "plt.show()"
   ]
  },
  {
   "cell_type": "code",
   "execution_count": null,
   "metadata": {},
   "outputs": [],
   "source": []
  },
  {
   "cell_type": "code",
   "execution_count": 65,
   "metadata": {},
   "outputs": [
    {
     "data": {
      "text/plain": [
       "array([ 2,  0, 14,  1, 11, 10, 12,  9,  3,  5,  6,  7,  4, 13,  8])"
      ]
     },
     "execution_count": 65,
     "metadata": {},
     "output_type": "execute_result"
    }
   ],
   "source": [
    "#'numpy.random.shuffle' functions shuffles (changes the order of the number) the array inplace.\n",
    "arr = np.arange(15)#you can notice it output shuffled numbers from 0 and goes as high as 14 in no order.\n",
    "np.random.shuffle(arr)\n",
    "arr"
   ]
  },
  {
   "cell_type": "code",
   "execution_count": 90,
   "metadata": {},
   "outputs": [
    {
     "name": "stdout",
     "output_type": "stream",
     "text": [
      "[12 11  2  0  8  3  9  1 14  5  6  7 10 13  4]\n"
     ]
    }
   ],
   "source": [
    "#I redeclared an array that has been suffled earlier.\n",
    "x = arr\n",
    "#I have set new veriable 'y' to the content of the array to have a different output of the array.\n",
    "y = x[:]\n",
    "# shuffle the elements\n",
    "np.random.shuffle(y)\n",
    "# see the result of the shuffling\n",
    "print(y)"
   ]
  },
  {
   "cell_type": "code",
   "execution_count": 81,
   "metadata": {},
   "outputs": [
    {
     "data": {
      "text/plain": [
       "array([ 3, 10, 13,  9,  2,  7, 11,  0,  1,  8, 12,  4, 14,  6,  5])"
      ]
     },
     "execution_count": 81,
     "metadata": {},
     "output_type": "execute_result"
    }
   ],
   "source": [
    "#'numpy.random.permutation' function randomly permute a sequence, or return a permuted range. \n",
    "#This example uses as interger where \n",
    "np.random.permutation(15)"
   ]
  },
  {
   "cell_type": "code",
   "execution_count": 89,
   "metadata": {},
   "outputs": [
    {
     "data": {
      "text/plain": [
       "array([ 5,  3,  5, 13,  8])"
      ]
     },
     "execution_count": 89,
     "metadata": {},
     "output_type": "execute_result"
    }
   ],
   "source": [
    "#This example passes an array instead of interger by using 'np.random.permutation'\n",
    "np.random.permutation([3, 5, 8, 13, 5]) #returns a shuffled copy of the array"
   ]
  },
  {
   "cell_type": "markdown",
   "metadata": {},
   "source": [
    "#### 3.Explanation of the use and purpose of at least ﬁve “Distributions” functions. \n"
   ]
  },
  {
   "cell_type": "code",
   "execution_count": null,
   "metadata": {},
   "outputs": [],
   "source": []
  },
  {
   "cell_type": "code",
   "execution_count": null,
   "metadata": {},
   "outputs": [],
   "source": []
  },
  {
   "cell_type": "markdown",
   "metadata": {},
   "source": [
    "## Reference:\n",
    "1. Video on basics of numpy https://www.youtube.com/watch?v=o8fmjaW9a0A \n",
    "2. Explains random numbers with python https://machinelearningmastery.com/how-to-generate-random-numbers-in-python/ \n",
    "3. Good examples and simple on numy random https://realpython.com/python-random/\n",
    "4. nump.random library https://docs.scipy.org/doc/numpy-1.13.0/reference/routines.random.html#simple-random-data "
   ]
  }
 ],
 "metadata": {
  "kernelspec": {
   "display_name": "Python 3",
   "language": "python",
   "name": "python3"
  },
  "language_info": {
   "codemirror_mode": {
    "name": "ipython",
    "version": 3
   },
   "file_extension": ".py",
   "mimetype": "text/x-python",
   "name": "python",
   "nbconvert_exporter": "python",
   "pygments_lexer": "ipython3",
   "version": "3.7.0"
  }
 },
 "nbformat": 4,
 "nbformat_minor": 2
}
