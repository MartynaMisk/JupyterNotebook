{
 "cells": [
  {
   "cell_type": "markdown",
   "metadata": {},
   "source": [
    "# Numpy.Random Package Investigation\n",
    "Programming for Data Analysis; Assignment 2018"
   ]
  },
  {
   "cell_type": "markdown",
   "metadata": {},
   "source": [
    "### Overview of the areas of investigation:\n",
    "In this jupyter notebook I will focus my investigation on following areas:\n",
    "1. Explanation of the overall purpose of the package Numpy.Random. \n",
    "2. Explanation of the use of the “Simple random data” and “Permutations” functions. \n",
    "3. Explanation of the use and purpose of at least ﬁve “Distributions” functions. \n",
    "4. Explanation of the use of seeds in generating pseudorandom numbers.\n",
    "\n",
    "###### Above four tasks will be clearly exaplined below to my best knowledge using code to showcase the numpy.random data package."
   ]
  },
  {
   "cell_type": "markdown",
   "metadata": {},
   "source": [
    "#### 1. Expalanation of the overall purpose of the package Numpy.Random.\n",
    "\n",
    "Numpy.Random package is a sub-package of the NumPy package in Python. NumPy represents numerical python manipulation of data. NumPy biggets advantage is that it perfoms calculation over entire arrays. Numpy.Random package main purpose is to generate sequence of random numbers, this package contains different functions that allows you to do it. In this Notebook I will focus on how those functions within numpy.random package operate and generate sequence of random numbers. Numpy.Random uses its own PRNG (Pseudorandom number generator)that is separate from plain old random which I found very interesting. \n",
    "\n",
    "Random sampling (numpy.random) package contains simple random data, permutations, distributions and random generator sections and each contains a number of functions that help us plot and generate random sampling.\n",
    "\n"
   ]
  },
  {
   "cell_type": "code",
   "execution_count": 67,
   "metadata": {},
   "outputs": [],
   "source": [
    "#to import an image I need the Python package\n",
    "from IPython.display import Image"
   ]
  },
  {
   "cell_type": "code",
   "execution_count": 68,
   "metadata": {},
   "outputs": [
    {
     "data": {
      "image/jpeg": "[encoded data removed]",
      "text/plain": [
       "<IPython.core.display.Image object>"
      ]
     },
     "execution_count": 68,
     "metadata": {
      "image/jpeg": {
       "height": 200,
       "width": 400
      }
     },
     "output_type": "execute_result"
    }
   ],
   "source": [
    "img_path = 'C:/Users/I333202/Desktop/img/numpylogo.jpg'\n",
    "Image(img_path, width=400, height=200)"
   ]
  },
  {
   "cell_type": "markdown",
   "metadata": {},
   "source": [
    "#### 2. Expalanation  of the use of the “Simple random data” and “Permutations” functions.\n",
    "\n",
    "Simple random data sections contains different functions that return random integers in different size,length, shape, low to high inclusice etc. Below code will represent few of the functions that helped me understand simple random data generation section. Permutations sections contains 'numpy.random.shuffle' and 'numpy.random.permutation' functions; both perform similar function where 'numpy.random.shuffle' changes the numpy array in place where 'numpy.random.permutation' doesn’t change when an integers is passed thought it."
   ]
  },
  {
   "cell_type": "markdown",
   "metadata": {},
   "source": [
    "##### Libraries"
   ]
  },
  {
   "cell_type": "code",
   "execution_count": 69,
   "metadata": {},
   "outputs": [],
   "source": [
    "#import libraries \n",
    "import numpy as np\n",
    "import seaborn as sns # seaborn: statistical data visualization\n",
    "import matplotlib.pyplot as plt"
   ]
  },
  {
   "cell_type": "markdown",
   "metadata": {},
   "source": [
    "##### Following 'simple random data' funcitons will be explained:\n",
    "- np.random.rand\n",
    "- np.random.randint\n",
    "- np.random_sample\n",
    "- np.random.choice"
   ]
  },
  {
   "cell_type": "code",
   "execution_count": 70,
   "metadata": {
    "scrolled": false
   },
   "outputs": [
    {
     "data": {
      "text/plain": [
       "array([[0.37384728, 0.62507326, 0.18021104, 0.25424565, 0.77162882],\n",
       "       [0.3072956 , 0.0349776 , 0.40516734, 0.18308977, 0.50944476],\n",
       "       [0.74738873, 0.63895056, 0.47829817, 0.91358968, 0.16247823],\n",
       "       [0.01319007, 0.2681396 , 0.92788102, 0.46950395, 0.48493353]])"
      ]
     },
     "execution_count": 70,
     "metadata": {},
     "output_type": "execute_result"
    }
   ],
   "source": [
    "np.random.rand(4,5) #generates 4 lines and 5 columns of array between 0 and 1 in no particular order. \n",
    "#Everytime the code is ran the output changes the array of numbers."
   ]
  },
  {
   "cell_type": "code",
   "execution_count": 71,
   "metadata": {},
   "outputs": [
    {
     "data": {
      "text/plain": [
       "array([[1, 0, 4, 3],\n",
       "       [4, 0, 4, 3]])"
      ]
     },
     "execution_count": 71,
     "metadata": {},
     "output_type": "execute_result"
    }
   ],
   "source": [
    "np.random.randint(5, size=(2,4))#This generates numbers between 0 and 5 in no order in 2 arrays and 4 columns.\n",
    "#randint function has half-open interval [low, high], and 0 is the lowest value if high is omitted."
   ]
  },
  {
   "cell_type": "code",
   "execution_count": 72,
   "metadata": {},
   "outputs": [],
   "source": [
    "#This example is of rolling two six sided dice 1000 times and summing up the results in a histogram.\n",
    "d1 = np.random.randint(1, 6, 1000) \n",
    "d2 = np.random.randint(1, 6, 1000) \n",
    "dsums = d1 + d2\n",
    "#Below I will display the result in a histogram."
   ]
  },
  {
   "cell_type": "code",
   "execution_count": 73,
   "metadata": {},
   "outputs": [
    {
     "data": {
      "image/png": "[encoded data removed]",
      "text/plain": [
       "<Figure size 432x288 with 1 Axes>"
      ]
     },
     "metadata": {
      "needs_background": "light"
     },
     "output_type": "display_data"
    }
   ],
   "source": [
    "count, bins, ignored = plt.hist(dsums, 11, density=True)\n",
    "plt.show()"
   ]
  },
  {
   "cell_type": "code",
   "execution_count": 74,
   "metadata": {},
   "outputs": [
    {
     "data": {
      "text/plain": [
       "array([0.08537358, 0.22787555])"
      ]
     },
     "execution_count": 74,
     "metadata": {},
     "output_type": "execute_result"
    }
   ],
   "source": [
    "#'np.random_sample' generates an array of random numbers depending on how many numbers is set.\n",
    "#The intervals are between 0 and 1\n",
    "#This example will return two intervals between 0 and 1.\n",
    "np.random.random_sample(2)"
   ]
  },
  {
   "cell_type": "code",
   "execution_count": 75,
   "metadata": {},
   "outputs": [
    {
     "data": {
      "text/plain": [
       "array([0.37051661, 0.9732754 , 0.32162019, 0.28085437])"
      ]
     },
     "execution_count": 75,
     "metadata": {},
     "output_type": "execute_result"
    }
   ],
   "source": [
    "np.random.random_sample(4) # this returns four intervals"
   ]
  },
  {
   "cell_type": "code",
   "execution_count": 76,
   "metadata": {},
   "outputs": [
    {
     "data": {
      "text/plain": [
       "array([[-7.47090678, -7.15421032, -2.81654557],\n",
       "       [-0.53796489, -3.35660432, -4.12868579],\n",
       "       [-7.42977133, -0.74364095, -4.16937431],\n",
       "       [-2.93524066, -7.77991863, -2.02023937]])"
      ]
     },
     "execution_count": 76,
     "metadata": {},
     "output_type": "execute_result"
    }
   ],
   "source": [
    "#4-by-3 array of random numbers from [-8, 0):\n",
    "8 * np.random.random_sample((4, 3)) - 8"
   ]
  },
  {
   "cell_type": "code",
   "execution_count": 77,
   "metadata": {},
   "outputs": [
    {
     "data": {
      "text/plain": [
       "True"
      ]
     },
     "execution_count": 77,
     "metadata": {},
     "output_type": "execute_result"
    }
   ],
   "source": [
    "np.random.random_sample is np.random.random #To check if np.random.random is an aliases of np.random.random_sample?\n",
    "#it is."
   ]
  },
  {
   "cell_type": "code",
   "execution_count": 78,
   "metadata": {},
   "outputs": [],
   "source": [
    "#'np.random.choice' proides an outcome of random sample from a given 1-D array."
   ]
  },
  {
   "cell_type": "code",
   "execution_count": 79,
   "metadata": {},
   "outputs": [
    {
     "data": {
      "text/plain": [
       "array([1, 1, 1, 1, 1])"
      ]
     },
     "execution_count": 79,
     "metadata": {},
     "output_type": "execute_result"
    }
   ],
   "source": [
    "np.random.choice(3, 5) #provides random number between 0-2 and in an array of 5 numbers:"
   ]
  },
  {
   "cell_type": "code",
   "execution_count": 80,
   "metadata": {},
   "outputs": [
    {
     "data": {
      "text/plain": [
       "array([6, 3, 6, 0, 6, 2, 1, 5, 4, 5])"
      ]
     },
     "execution_count": 80,
     "metadata": {},
     "output_type": "execute_result"
    }
   ],
   "source": [
    "np.random.choice(8, 10) #provides random number between 0-7 and in an array of 10 numbers:"
   ]
  },
  {
   "cell_type": "code",
   "execution_count": 81,
   "metadata": {},
   "outputs": [
    {
     "data": {
      "text/plain": [
       "False"
      ]
     },
     "execution_count": 81,
     "metadata": {},
     "output_type": "execute_result"
    }
   ],
   "source": [
    "np.random.randint is np.random.choice # not an aliases but the functions are equivilant. \n",
    "#In above example 'np.random.choice(8, 10)' is equivilant to 'np.random.randint(0,8,10)'."
   ]
  },
  {
   "cell_type": "code",
   "execution_count": 82,
   "metadata": {},
   "outputs": [
    {
     "data": {
      "text/plain": [
       "array([2, 6, 2, 4, 3, 1, 2, 6, 2, 3])"
      ]
     },
     "execution_count": 82,
     "metadata": {},
     "output_type": "execute_result"
    }
   ],
   "source": [
    "np.random.randint(0,8,10)"
   ]
  },
  {
   "cell_type": "code",
   "execution_count": 83,
   "metadata": {},
   "outputs": [
    {
     "data": {
      "text/plain": [
       "array([ 3,  7, 10,  4])"
      ]
     },
     "execution_count": 83,
     "metadata": {},
     "output_type": "execute_result"
    }
   ],
   "source": [
    "np.random.choice(np.arange(11), 4, replace=False) #chooses 4 integers without replacement from [0,10]. \n",
    "#In conclusion, 'np.random.choice' can select elements from an array"
   ]
  },
  {
   "cell_type": "markdown",
   "metadata": {},
   "source": [
    "##### Following 'Permutations' funcitons will be explained:\n",
    "- np.random.shuffle\n",
    "- np.random.permutation"
   ]
  },
  {
   "cell_type": "code",
   "execution_count": 84,
   "metadata": {},
   "outputs": [
    {
     "data": {
      "text/plain": [
       "array([ 3, 14,  0,  4, 13,  8,  6, 10,  2,  5,  1,  7, 11, 12,  9])"
      ]
     },
     "execution_count": 84,
     "metadata": {},
     "output_type": "execute_result"
    }
   ],
   "source": [
    "#'numpy.random.shuffle' functions shuffles (changes the order of the number) the array inplace.\n",
    "arr = np.arange(15)#you can notice it output shuffled numbers from 0 and goes as high as 14 in no order.\n",
    "np.random.shuffle(arr)\n",
    "arr"
   ]
  },
  {
   "cell_type": "code",
   "execution_count": 85,
   "metadata": {},
   "outputs": [
    {
     "name": "stdout",
     "output_type": "stream",
     "text": [
      "[14 12  6  1  0  2 11  7  4  9  8 13  3  5 10]\n"
     ]
    }
   ],
   "source": [
    "#I redeclared an array that has been shuffled earlier.\n",
    "x = arr\n",
    "#I have set new veriable 'y' to the content of the array to have a different output of the array.\n",
    "y = x[:]\n",
    "# shuffle the elements\n",
    "np.random.shuffle(y)\n",
    "# see the result of the shuffling\n",
    "print(y)"
   ]
  },
  {
   "cell_type": "code",
   "execution_count": 86,
   "metadata": {},
   "outputs": [
    {
     "data": {
      "text/plain": [
       "(array([2., 1., 2., 1., 1., 2., 1., 2., 1., 2.]),\n",
       " array([ 0. ,  1.4,  2.8,  4.2,  5.6,  7. ,  8.4,  9.8, 11.2, 12.6, 14. ]),\n",
       " <a list of 10 Patch objects>)"
      ]
     },
     "execution_count": 86,
     "metadata": {},
     "output_type": "execute_result"
    },
    {
     "data": {
      "image/png": "[encoded data removed]",
      "text/plain": [
       "<Figure size 432x288 with 1 Axes>"
      ]
     },
     "metadata": {
      "needs_background": "light"
     },
     "output_type": "display_data"
    }
   ],
   "source": [
    "plt.hist(x)"
   ]
  },
  {
   "cell_type": "code",
   "execution_count": 87,
   "metadata": {},
   "outputs": [
    {
     "data": {
      "text/plain": [
       "array([10,  5,  4,  2,  1,  9,  0, 13,  8,  7, 11, 12,  6, 14,  3])"
      ]
     },
     "execution_count": 87,
     "metadata": {},
     "output_type": "execute_result"
    }
   ],
   "source": [
    "#'numpy.random.permutation' function randomly changes a sequence, or return a permuted range. \n",
    "#This example uses as interger where \n",
    "np.random.permutation(15)"
   ]
  },
  {
   "cell_type": "code",
   "execution_count": 88,
   "metadata": {},
   "outputs": [
    {
     "data": {
      "text/plain": [
       "array([ 8,  3, 13,  5,  5])"
      ]
     },
     "execution_count": 88,
     "metadata": {},
     "output_type": "execute_result"
    }
   ],
   "source": [
    "#This example passes an array instead of interger by using 'np.random.permutation'\n",
    "np.random.permutation([3, 5, 8, 13, 5]) #returns a shuffled copy of the array"
   ]
  },
  {
   "cell_type": "markdown",
   "metadata": {},
   "source": [
    "#### 3. Explanation of the use and purpose of at least ﬁve “Distributions” functions. \n"
   ]
  },
  {
   "cell_type": "markdown",
   "metadata": {},
   "source": [
    "I will focus on following Distributions:\n",
    "- Numpy Random Binomial \n",
    "- Numpy Random Paisson\n",
    "- Numpy Random Uniform\n",
    "- Numpy Random Logistic\n",
    "- Numpy Random Hypergeometric"
   ]
  },
  {
   "cell_type": "markdown",
   "metadata": {},
   "source": [
    "- #### Binomial (numpy.random.binomial)\n",
    "\n",
    "Binomial probabilty can only have two outcomes; either success or failure. Each performance of an action is independent of another trial. Most used example to explain Binomial distribution is to use tossing a coin example as it can either have a succesful outcome or not."
   ]
  },
  {
   "cell_type": "code",
   "execution_count": 89,
   "metadata": {},
   "outputs": [
    {
     "data": {
      "text/plain": [
       "array([3, 2, 3, 2, 2, 1, 5, 6, 3, 5, 4, 6, 3, 3, 3, 8, 5, 3, 2, 7, 3, 5,\n",
       "       5, 3, 3, 5, 6, 5, 2, 2, 4, 3, 1, 3, 2, 1, 4, 5, 3, 7, 4, 5, 4, 4,\n",
       "       4, 5, 5, 4, 2, 3, 4, 5, 4, 5, 4, 4, 3, 3, 5, 4, 4, 4, 5, 4, 5, 4,\n",
       "       4, 4, 4, 3, 5, 5, 5, 4, 6, 5, 3, 4, 3, 3, 5, 3, 4, 3, 7, 5, 3, 4,\n",
       "       4, 4, 3, 4, 4, 7, 4, 7, 3, 6, 4, 4])"
      ]
     },
     "execution_count": 89,
     "metadata": {},
     "output_type": "execute_result"
    }
   ],
   "source": [
    "n, p = 8, .5  # number of trials, probability of each trial\n",
    "np.random.binomial(n, p, 100)\n",
    "# result of flipping a coin 8 times, tested 100 times."
   ]
  },
  {
   "cell_type": "code",
   "execution_count": 90,
   "metadata": {},
   "outputs": [
    {
     "data": {
      "text/plain": [
       "array([3, 5, 2, 4, 4, 4, 5, 1, 4, 5, 4, 2, 1, 4, 3, 4, 2, 3, 1, 2, 5, 5,\n",
       "       3, 2, 3, 2, 2, 6, 4, 7, 1, 4, 3, 5, 7, 4, 4, 1, 3, 3, 5, 4, 4, 4,\n",
       "       3, 4, 3, 2, 5, 3, 0, 4, 4, 3, 2, 4, 4, 3, 4, 5, 7, 4, 2, 2, 6, 2,\n",
       "       5, 4, 6, 5, 3, 5, 3, 2, 4, 2, 2, 3, 4, 5, 3, 4, 4, 3, 3, 6, 5, 5,\n",
       "       5, 3, 2, 2, 3, 5, 3, 4, 4, 2, 6, 6])"
      ]
     },
     "execution_count": 90,
     "metadata": {},
     "output_type": "execute_result"
    }
   ],
   "source": [
    "n, p = 8, .5  # number of trials, probability of each trial\n",
    "np.random.binomial(n, p, 100)\n",
    "# result of flipping a coin 10 times, tested 1000 times."
   ]
  },
  {
   "cell_type": "code",
   "execution_count": 91,
   "metadata": {},
   "outputs": [
    {
     "name": "stderr",
     "output_type": "stream",
     "text": [
      "C:\\Users\\I333202\\AppData\\Local\\Continuum\\anaconda3\\lib\\site-packages\\scipy\\stats\\stats.py:1713: FutureWarning: Using a non-tuple sequence for multidimensional indexing is deprecated; use `arr[tuple(seq)]` instead of `arr[seq]`. In the future this will be interpreted as an array index, `arr[np.array(seq)]`, which will result either in an error or a different result.\n",
      "  return np.add.reduce(sorted[indexer] * weights, axis=axis) / sumval\n"
     ]
    },
    {
     "data": {
      "text/plain": [
       "[Text(0,0.5,'Frequency'), Text(0.5,0,'Binomial')]"
      ]
     },
     "execution_count": 91,
     "metadata": {},
     "output_type": "execute_result"
    },
    {
     "data": {
      "image/png": "[encoded data removed]",
      "text/plain": [
       "<Figure size 432x288 with 1 Axes>"
      ]
     },
     "metadata": {
      "needs_background": "light"
     },
     "output_type": "display_data"
    }
   ],
   "source": [
    "from scipy.stats import binom\n",
    "data=binom.rvs(n=17,p=0.7,loc=0,size=1010)\n",
    "ax=sns.distplot(data,\n",
    "                kde=True,\n",
    "                color='pink',\n",
    "                hist_kws={\"linewidth\": 22,'alpha':0.77})\n",
    "ax.set(xlabel='Binomial',ylabel='Frequency')"
   ]
  },
  {
   "cell_type": "markdown",
   "metadata": {},
   "source": [
    "- #### Poisson (numpy.random.poisson)\n",
    "\n",
    "Poisson distribution expresses the proabability of number of given events happen in a fixed interval of time or space. This assumes that these events happen independent of the last even and at a constant rate.\n"
   ]
  },
  {
   "cell_type": "code",
   "execution_count": 92,
   "metadata": {},
   "outputs": [
    {
     "data": {
      "text/plain": [
       "array([7, 8, 4, ..., 4, 7, 3])"
      ]
     },
     "execution_count": 92,
     "metadata": {},
     "output_type": "execute_result"
    }
   ],
   "source": [
    "np.random.poisson(5, 10000) \n",
    "#5 represents lambda(fixed interval of time).\n",
    "#10000 represents the amount of time the event took place."
   ]
  },
  {
   "cell_type": "code",
   "execution_count": 93,
   "metadata": {},
   "outputs": [
    {
     "data": {
      "text/plain": [
       "array([13,  6, 12, 15, 12, 13, 15,  4, 11,  6])"
      ]
     },
     "execution_count": 93,
     "metadata": {},
     "output_type": "execute_result"
    }
   ],
   "source": [
    "np.random.poisson(10, 10)"
   ]
  },
  {
   "cell_type": "code",
   "execution_count": 94,
   "metadata": {},
   "outputs": [
    {
     "data": {
      "text/plain": [
       "array([ 5, 11,  3,  5,  5])"
      ]
     },
     "execution_count": 94,
     "metadata": {},
     "output_type": "execute_result"
    }
   ],
   "source": [
    "np.random.poisson(6, 5)"
   ]
  },
  {
   "cell_type": "code",
   "execution_count": 95,
   "metadata": {},
   "outputs": [
    {
     "data": {
      "text/plain": [
       "(array([0.00864   , 0.03861333, 0.08938667, 0.14826667, 0.1872    ,\n",
       "        0.18346667, 0.15445333, 0.11136   , 0.0736    , 0.03861333,\n",
       "        0.01973333, 0.00693333, 0.00384   , 0.00181333, 0.00042667,\n",
       "        0.00032   ]),\n",
       " array([ 0.    ,  0.9375,  1.875 ,  2.8125,  3.75  ,  4.6875,  5.625 ,\n",
       "         6.5625,  7.5   ,  8.4375,  9.375 , 10.3125, 11.25  , 12.1875,\n",
       "        13.125 , 14.0625, 15.    ]),\n",
       " <a list of 16 Patch objects>)"
      ]
     },
     "execution_count": 95,
     "metadata": {},
     "output_type": "execute_result"
    },
    {
     "data": {
      "image/png": "[encoded data removed]",
      "text/plain": [
       "<Figure size 432x288 with 1 Axes>"
      ]
     },
     "metadata": {
      "needs_background": "light"
     },
     "output_type": "display_data"
    }
   ],
   "source": [
    "s=np.random.poisson(5, 10000)\n",
    "plt.hist(s,16,density=True,color='Green')"
   ]
  },
  {
   "cell_type": "code",
   "execution_count": 96,
   "metadata": {},
   "outputs": [
    {
     "data": {
      "text/plain": [
       "array([[13, 48],\n",
       "       [ 8, 46],\n",
       "       [ 9, 56],\n",
       "       [ 3, 46],\n",
       "       [11, 43],\n",
       "       [ 8, 51],\n",
       "       [ 6, 50],\n",
       "       [13, 46],\n",
       "       [10, 53],\n",
       "       [11, 45]])"
      ]
     },
     "execution_count": 96,
     "metadata": {},
     "output_type": "execute_result"
    }
   ],
   "source": [
    "np.random.poisson(lam=(10., 50.), size=(10, 2)) #example of drawing each 10 values for lambda 10 and 50:"
   ]
  },
  {
   "cell_type": "markdown",
   "metadata": {},
   "source": [
    "- #### Uniform (numpy.random.uniform)\n",
    "\n",
    "Uniform Distribution functions is one of the distribution function which means that ['all outcomes are equally likely; each variable has the same probability that it will be the outcome'](https://www.investopedia.com/terms/u/uniform-distribution.asp#ixzz5W1SBNSMA)"
   ]
  },
  {
   "cell_type": "code",
   "execution_count": 97,
   "metadata": {},
   "outputs": [
    {
     "data": {
      "text/plain": [
       "array([-0.04780416, -0.26858805, -0.15940831, -0.59625032, -0.31799375,\n",
       "       -0.42725393, -0.11762209, -0.07986572, -0.39998238, -0.51707593])"
      ]
     },
     "execution_count": 97,
     "metadata": {},
     "output_type": "execute_result"
    }
   ],
   "source": [
    "np.random.uniform(-1,0,10) # -1 is lower number and 0 is the highest it can go and 10 is the size"
   ]
  },
  {
   "cell_type": "code",
   "execution_count": 98,
   "metadata": {},
   "outputs": [
    {
     "data": {
      "text/plain": [
       "array([1.07068983, 1.24723826, 2.28386101, 1.60547485, 2.33870225,\n",
       "       2.16457934, 2.09510641, 2.16867301, 1.37121393, 1.99517851])"
      ]
     },
     "execution_count": 98,
     "metadata": {},
     "output_type": "execute_result"
    }
   ],
   "source": [
    "np.random.uniform(1,3,10) #generates number between 1 and 4 "
   ]
  },
  {
   "cell_type": "code",
   "execution_count": 99,
   "metadata": {},
   "outputs": [
    {
     "data": {
      "text/plain": [
       "False"
      ]
     },
     "execution_count": 99,
     "metadata": {},
     "output_type": "execute_result"
    }
   ],
   "source": [
    "np.random.uniform(1,3,10) #All values are within 5 or more\n",
    "np.all(s >= 5) #outcome is true"
   ]
  },
  {
   "cell_type": "code",
   "execution_count": 100,
   "metadata": {},
   "outputs": [
    {
     "data": {
      "text/plain": [
       "False"
      ]
     },
     "execution_count": 100,
     "metadata": {},
     "output_type": "execute_result"
    }
   ],
   "source": [
    "np.random.uniform(1,3,10) #All values are within 11 or more\n",
    "np.all(s >= 11) # outcome is false"
   ]
  },
  {
   "cell_type": "code",
   "execution_count": 101,
   "metadata": {},
   "outputs": [
    {
     "data": {
      "text/plain": [
       "(array([3., 1., 0., 1., 2., 1., 0., 0., 1., 1.]),\n",
       " array([1.30578904, 1.47121741, 1.63664579, 1.80207416, 1.96750254,\n",
       "        2.13293092, 2.29835929, 2.46378767, 2.62921604, 2.79464442,\n",
       "        2.9600728 ]),\n",
       " <a list of 10 Patch objects>)"
      ]
     },
     "execution_count": 101,
     "metadata": {},
     "output_type": "execute_result"
    },
    {
     "data": {
      "image/png": "[encoded data removed]",
      "text/plain": [
       "<Figure size 432x288 with 1 Axes>"
      ]
     },
     "metadata": {
      "needs_background": "light"
     },
     "output_type": "display_data"
    }
   ],
   "source": [
    "y = np.random.uniform(1,3,10) \n",
    "#To plot this\n",
    "plt.hist(y) #The histogram changes eveyrtime the funcion is ran."
   ]
  },
  {
   "cell_type": "markdown",
   "metadata": {},
   "source": [
    "- #### Logistic (numpy.random.logistic)"
   ]
  },
  {
   "cell_type": "code",
   "execution_count": null,
   "metadata": {},
   "outputs": [],
   "source": []
  },
  {
   "cell_type": "code",
   "execution_count": 102,
   "metadata": {},
   "outputs": [
    {
     "data": {
      "image/png": "[encoded data removed]",
      "text/plain": [
       "<Figure size 432x288 with 1 Axes>"
      ]
     },
     "metadata": {
      "needs_background": "light"
     },
     "output_type": "display_data"
    }
   ],
   "source": [
    "loc, scale = 10, 1\n",
    "s = np.random.logistic(loc, scale, 10000)\n",
    "count, bins, ignored = plt.hist(s, bins=50)"
   ]
  },
  {
   "cell_type": "code",
   "execution_count": 103,
   "metadata": {},
   "outputs": [
    {
     "ename": "NameError",
     "evalue": "name 'exp' is not defined",
     "output_type": "error",
     "traceback": [
      "\u001b[1;31m---------------------------------------------------------------------------\u001b[0m",
      "\u001b[1;31mNameError\u001b[0m                                 Traceback (most recent call last)",
      "\u001b[1;32m<ipython-input-103-b72fc211e650>\u001b[0m in \u001b[0;36m<module>\u001b[1;34m()\u001b[0m\n\u001b[0;32m      1\u001b[0m \u001b[1;32mdef\u001b[0m \u001b[0mlogist\u001b[0m\u001b[1;33m(\u001b[0m\u001b[0mx\u001b[0m\u001b[1;33m,\u001b[0m \u001b[0mloc\u001b[0m\u001b[1;33m,\u001b[0m \u001b[0mscale\u001b[0m\u001b[1;33m)\u001b[0m\u001b[1;33m:\u001b[0m\u001b[1;33m\u001b[0m\u001b[0m\n\u001b[0;32m      2\u001b[0m     \u001b[1;32mreturn\u001b[0m \u001b[0mexp\u001b[0m\u001b[1;33m(\u001b[0m\u001b[1;33m(\u001b[0m\u001b[0mloc\u001b[0m\u001b[1;33m-\u001b[0m\u001b[0mx\u001b[0m\u001b[1;33m)\u001b[0m\u001b[1;33m/\u001b[0m\u001b[0mscale\u001b[0m\u001b[1;33m)\u001b[0m\u001b[1;33m/\u001b[0m\u001b[1;33m(\u001b[0m\u001b[0mscale\u001b[0m\u001b[1;33m*\u001b[0m\u001b[1;33m(\u001b[0m\u001b[1;36m1\u001b[0m\u001b[1;33m+\u001b[0m\u001b[0mexp\u001b[0m\u001b[1;33m(\u001b[0m\u001b[1;33m(\u001b[0m\u001b[0mloc\u001b[0m\u001b[1;33m-\u001b[0m\u001b[0mx\u001b[0m\u001b[1;33m)\u001b[0m\u001b[1;33m/\u001b[0m\u001b[0mscale\u001b[0m\u001b[1;33m)\u001b[0m\u001b[1;33m)\u001b[0m\u001b[1;33m**\u001b[0m\u001b[1;36m2\u001b[0m\u001b[1;33m)\u001b[0m\u001b[1;33m\u001b[0m\u001b[0m\n\u001b[1;32m----> 3\u001b[1;33m \u001b[0mplt\u001b[0m\u001b[1;33m.\u001b[0m\u001b[0mplot\u001b[0m\u001b[1;33m(\u001b[0m\u001b[0mbins\u001b[0m\u001b[1;33m,\u001b[0m \u001b[0mlogist\u001b[0m\u001b[1;33m(\u001b[0m\u001b[0mbins\u001b[0m\u001b[1;33m,\u001b[0m \u001b[0mloc\u001b[0m\u001b[1;33m,\u001b[0m \u001b[0mscale\u001b[0m\u001b[1;33m)\u001b[0m\u001b[1;33m*\u001b[0m\u001b[0mcount\u001b[0m\u001b[1;33m.\u001b[0m\u001b[0mmax\u001b[0m\u001b[1;33m(\u001b[0m\u001b[1;33m)\u001b[0m\u001b[1;33m/\u001b[0m\u001b[0mlogist\u001b[0m\u001b[1;33m(\u001b[0m\u001b[0mbins\u001b[0m\u001b[1;33m,\u001b[0m \u001b[0mloc\u001b[0m\u001b[1;33m,\u001b[0m \u001b[0mscale\u001b[0m\u001b[1;33m)\u001b[0m\u001b[1;33m.\u001b[0m\u001b[0mmax\u001b[0m\u001b[1;33m(\u001b[0m\u001b[1;33m)\u001b[0m\u001b[1;33m)\u001b[0m\u001b[1;33m\u001b[0m\u001b[0m\n\u001b[0m\u001b[0;32m      4\u001b[0m \u001b[0mplt\u001b[0m\u001b[1;33m.\u001b[0m\u001b[0mshow\u001b[0m\u001b[1;33m(\u001b[0m\u001b[1;33m)\u001b[0m\u001b[1;33m\u001b[0m\u001b[0m\n",
      "\u001b[1;32m<ipython-input-103-b72fc211e650>\u001b[0m in \u001b[0;36mlogist\u001b[1;34m(x, loc, scale)\u001b[0m\n\u001b[0;32m      1\u001b[0m \u001b[1;32mdef\u001b[0m \u001b[0mlogist\u001b[0m\u001b[1;33m(\u001b[0m\u001b[0mx\u001b[0m\u001b[1;33m,\u001b[0m \u001b[0mloc\u001b[0m\u001b[1;33m,\u001b[0m \u001b[0mscale\u001b[0m\u001b[1;33m)\u001b[0m\u001b[1;33m:\u001b[0m\u001b[1;33m\u001b[0m\u001b[0m\n\u001b[1;32m----> 2\u001b[1;33m     \u001b[1;32mreturn\u001b[0m \u001b[0mexp\u001b[0m\u001b[1;33m(\u001b[0m\u001b[1;33m(\u001b[0m\u001b[0mloc\u001b[0m\u001b[1;33m-\u001b[0m\u001b[0mx\u001b[0m\u001b[1;33m)\u001b[0m\u001b[1;33m/\u001b[0m\u001b[0mscale\u001b[0m\u001b[1;33m)\u001b[0m\u001b[1;33m/\u001b[0m\u001b[1;33m(\u001b[0m\u001b[0mscale\u001b[0m\u001b[1;33m*\u001b[0m\u001b[1;33m(\u001b[0m\u001b[1;36m1\u001b[0m\u001b[1;33m+\u001b[0m\u001b[0mexp\u001b[0m\u001b[1;33m(\u001b[0m\u001b[1;33m(\u001b[0m\u001b[0mloc\u001b[0m\u001b[1;33m-\u001b[0m\u001b[0mx\u001b[0m\u001b[1;33m)\u001b[0m\u001b[1;33m/\u001b[0m\u001b[0mscale\u001b[0m\u001b[1;33m)\u001b[0m\u001b[1;33m)\u001b[0m\u001b[1;33m**\u001b[0m\u001b[1;36m2\u001b[0m\u001b[1;33m)\u001b[0m\u001b[1;33m\u001b[0m\u001b[0m\n\u001b[0m\u001b[0;32m      3\u001b[0m \u001b[0mplt\u001b[0m\u001b[1;33m.\u001b[0m\u001b[0mplot\u001b[0m\u001b[1;33m(\u001b[0m\u001b[0mbins\u001b[0m\u001b[1;33m,\u001b[0m \u001b[0mlogist\u001b[0m\u001b[1;33m(\u001b[0m\u001b[0mbins\u001b[0m\u001b[1;33m,\u001b[0m \u001b[0mloc\u001b[0m\u001b[1;33m,\u001b[0m \u001b[0mscale\u001b[0m\u001b[1;33m)\u001b[0m\u001b[1;33m*\u001b[0m\u001b[0mcount\u001b[0m\u001b[1;33m.\u001b[0m\u001b[0mmax\u001b[0m\u001b[1;33m(\u001b[0m\u001b[1;33m)\u001b[0m\u001b[1;33m/\u001b[0m\u001b[0mlogist\u001b[0m\u001b[1;33m(\u001b[0m\u001b[0mbins\u001b[0m\u001b[1;33m,\u001b[0m \u001b[0mloc\u001b[0m\u001b[1;33m,\u001b[0m \u001b[0mscale\u001b[0m\u001b[1;33m)\u001b[0m\u001b[1;33m.\u001b[0m\u001b[0mmax\u001b[0m\u001b[1;33m(\u001b[0m\u001b[1;33m)\u001b[0m\u001b[1;33m)\u001b[0m\u001b[1;33m\u001b[0m\u001b[0m\n\u001b[0;32m      4\u001b[0m \u001b[0mplt\u001b[0m\u001b[1;33m.\u001b[0m\u001b[0mshow\u001b[0m\u001b[1;33m(\u001b[0m\u001b[1;33m)\u001b[0m\u001b[1;33m\u001b[0m\u001b[0m\n",
      "\u001b[1;31mNameError\u001b[0m: name 'exp' is not defined"
     ]
    }
   ],
   "source": [
    "def logist(x, loc, scale):\n",
    "    return exp((loc-x)/scale)/(scale*(1+exp((loc-x)/scale))**2)\n",
    "plt.plot(bins, logist(bins, loc, scale)*count.max()/\\\n",
    "logist(bins, loc, scale).max())\n",
    "plt.show()"
   ]
  },
  {
   "cell_type": "code",
   "execution_count": 104,
   "metadata": {},
   "outputs": [
    {
     "ename": "SyntaxError",
     "evalue": "invalid syntax (<ipython-input-104-643dc9e87fbf>, line 1)",
     "output_type": "error",
     "traceback": [
      "\u001b[1;36m  File \u001b[1;32m\"<ipython-input-104-643dc9e87fbf>\"\u001b[1;36m, line \u001b[1;32m1\u001b[0m\n\u001b[1;33m    https://nugrid.github.io/NuGridPy/_autosummary/nugridpy.ppn.html\u001b[0m\n\u001b[1;37m           ^\u001b[0m\n\u001b[1;31mSyntaxError\u001b[0m\u001b[1;31m:\u001b[0m invalid syntax\n"
     ]
    }
   ],
   "source": [
    "https://nugrid.github.io/NuGridPy/_autosummary/nugridpy.ppn.html"
   ]
  },
  {
   "cell_type": "code",
   "execution_count": null,
   "metadata": {},
   "outputs": [],
   "source": []
  },
  {
   "cell_type": "code",
   "execution_count": null,
   "metadata": {},
   "outputs": [],
   "source": []
  },
  {
   "cell_type": "markdown",
   "metadata": {},
   "source": [
    "- #### Hypergeometrics (numpy.random.hypergeometric)\n",
    "\n",
    "Hypergeometric distribution function describes the probability of success from a draw where population of the data has specific feature. The hypergeometric distribution is parameterized by:\n",
    "1. Ngood : making a good selection \n",
    "2. Nbad : making bad selection \n",
    "3. Nsample : no of items sampled  without replacement \n",
    "4. Size : population size "
   ]
  },
  {
   "cell_type": "code",
   "execution_count": 105,
   "metadata": {},
   "outputs": [],
   "source": [
    "s = np.random.hypergeometric(100, 2, 10, 1000) #This example is taken form the library\n",
    "#It could represent 100 red marbles, 2 black marbles, 10 draws."
   ]
  },
  {
   "cell_type": "code",
   "execution_count": 106,
   "metadata": {},
   "outputs": [
    {
     "data": {
      "text/plain": [
       "(array([ 10.,   0.,   0.,   0.,   0., 187.,   0.,   0.,   0., 803.]),\n",
       " array([ 8. ,  8.2,  8.4,  8.6,  8.8,  9. ,  9.2,  9.4,  9.6,  9.8, 10. ]),\n",
       " <a list of 10 Patch objects>)"
      ]
     },
     "execution_count": 106,
     "metadata": {},
     "output_type": "execute_result"
    },
    {
     "data": {
      "image/png": "[encoded data removed]",
      "text/plain": [
       "<Figure size 432x288 with 1 Axes>"
      ]
     },
     "metadata": {
      "needs_background": "light"
     },
     "output_type": "display_data"
    }
   ],
   "source": [
    "plt.hist(s)\n",
    "#Histogram demonstrates that the probability of drawing from the 10 sample will be mostly red marbles.\n",
    "#The probability of drawing the black marble is very unlikely. "
   ]
  },
  {
   "cell_type": "code",
   "execution_count": 107,
   "metadata": {},
   "outputs": [
    {
     "data": {
      "text/plain": [
       "0.28629"
      ]
     },
     "execution_count": 107,
     "metadata": {},
     "output_type": "execute_result"
    }
   ],
   "source": [
    "#I will use another example to explain the use of numpy.random.hypergeometircs\n",
    "#For example there is a box that contains 10 skittles (4 yellow and 6 green). \n",
    "#I randomly selected 5 out of the box which equals n=5 without putting them back into the box after each draw. \n",
    "#Under “null hypothesis”.\n",
    "\n",
    "r = np.random.hypergeometric(4, 6, 5, 100000) #What is the probability that 4 or more will be the same color?\n",
    "sum(r>=4)/100000. + sum(r<=1)/100000. #Now the probabilty is a lot lower"
   ]
  },
  {
   "cell_type": "code",
   "execution_count": 108,
   "metadata": {},
   "outputs": [
    {
     "data": {
      "text/plain": [
       "1.97622"
      ]
     },
     "execution_count": 108,
     "metadata": {},
     "output_type": "execute_result"
    }
   ],
   "source": [
    "t = np.random.hypergeometric(4, 6, 5, 100000) #What is the probability that 1 will be the same color?\n",
    "sum(t>=1)/100000. + sum(t<=4)/100000. #Now the probabilty is a lot higher"
   ]
  },
  {
   "cell_type": "code",
   "execution_count": 109,
   "metadata": {},
   "outputs": [
    {
     "data": {
      "text/plain": [
       "0.97677"
      ]
     },
     "execution_count": 109,
     "metadata": {},
     "output_type": "execute_result"
    }
   ],
   "source": [
    "r = np.random.hypergeometric(4, 6, 5, 100000) #What is the probability that 3 or less will be the same color?\n",
    "sum(r<=3)/100000. #The probabilty high"
   ]
  },
  {
   "cell_type": "code",
   "execution_count": 110,
   "metadata": {},
   "outputs": [
    {
     "data": {
      "text/plain": [
       "(array([ 2312.,     0., 23935.,     0.,     0., 47660.,     0., 23770.,\n",
       "            0.,  2323.]),\n",
       " array([0. , 0.4, 0.8, 1.2, 1.6, 2. , 2.4, 2.8, 3.2, 3.6, 4. ]),\n",
       " <a list of 10 Patch objects>)"
      ]
     },
     "execution_count": 110,
     "metadata": {},
     "output_type": "execute_result"
    },
    {
     "data": {
      "image/png": "[encoded data removed]",
      "text/plain": [
       "<Figure size 432x288 with 1 Axes>"
      ]
     },
     "metadata": {
      "needs_background": "light"
     },
     "output_type": "display_data"
    }
   ],
   "source": [
    "plt.hist(r)\n",
    "#Histogram represents 5 draws.\n",
    "#The probability of getting 2 of the same color is high.\n",
    "#The probability of getting 4 of the same color is very low."
   ]
  },
  {
   "cell_type": "markdown",
   "metadata": {},
   "source": [
    "Hypergeometric distribution is very similar to the binomial distribution, however in hypergeometrics distibution samples are drawn without replacement, whereas in the Binomial distibution samples are replaced."
   ]
  },
  {
   "cell_type": "code",
   "execution_count": 131,
   "metadata": {},
   "outputs": [
    {
     "ename": "IndentationError",
     "evalue": "unexpected indent (<ipython-input-131-4eda4edadc1d>, line 7)",
     "output_type": "error",
     "traceback": [
      "\u001b[1;36m  File \u001b[1;32m\"<ipython-input-131-4eda4edadc1d>\"\u001b[1;36m, line \u001b[1;32m7\u001b[0m\n\u001b[1;33m    (actual, desired)\u001b[0m\n\u001b[1;37m    ^\u001b[0m\n\u001b[1;31mIndentationError\u001b[0m\u001b[1;31m:\u001b[0m unexpected indent\n"
     ]
    }
   ],
   "source": [
    "def test_hypergeometric(self):\n",
    " np.random.seed(self.seed)\n",
    " actual = np.random.hypergeometric(10.1, 5.5, 14, size=(3, 2))\n",
    " desired = np.array([[10, 10],\n",
    "                    [10, 10],\n",
    "                    [9, 9]])\n",
    "     (actual, desired)"
   ]
  },
  {
   "cell_type": "code",
   "execution_count": null,
   "metadata": {},
   "outputs": [],
   "source": []
  },
  {
   "cell_type": "markdown",
   "metadata": {},
   "source": [
    "- #### Normal (np.random.normal)\n",
    "\n",
    "Normal distribution random variables in a graph that is shaped as a symmetrical bell. This function arranges the probability distribution for each value. This function is often called the bell curve because of its bell shape."
   ]
  },
  {
   "cell_type": "code",
   "execution_count": 134,
   "metadata": {},
   "outputs": [],
   "source": [
    "mu, sigma = 0, 0.1 # mean and standard deviation\n",
    "s = np.random.normal(mu, sigma, 1000)"
   ]
  },
  {
   "cell_type": "code",
   "execution_count": 135,
   "metadata": {},
   "outputs": [
    {
     "data": {
      "text/plain": [
       "True"
      ]
     },
     "execution_count": 135,
     "metadata": {},
     "output_type": "execute_result"
    }
   ],
   "source": [
    "abs(mu - np.mean(s)) < 0.01 #verifying the mean"
   ]
  },
  {
   "cell_type": "code",
   "execution_count": 138,
   "metadata": {},
   "outputs": [
    {
     "data": {
      "text/plain": [
       "True"
      ]
     },
     "execution_count": 138,
     "metadata": {},
     "output_type": "execute_result"
    }
   ],
   "source": [
    "abs(sigma - np.std(s, ddof=1)) < 0.01 #verifying the variance"
   ]
  },
  {
   "cell_type": "code",
   "execution_count": 139,
   "metadata": {},
   "outputs": [
    {
     "data": {
      "image/png": "[encoded data removed]",
      "text/plain": [
       "<Figure size 432x288 with 1 Axes>"
      ]
     },
     "metadata": {
      "needs_background": "light"
     },
     "output_type": "display_data"
    }
   ],
   "source": [
    "#Plotting histogram of the samples, along with the probability density function:\n",
    "count, bins, ignored = plt.hist(s, 30, density=True)\n",
    "plt.plot(bins, 1/(sigma * np.sqrt(2 * np.pi)) *\n",
    "               np.exp( - (bins - mu)**2 / (2 * sigma**2) ),\n",
    "         linewidth=2, color='r')\n",
    "plt.show()"
   ]
  },
  {
   "cell_type": "code",
   "execution_count": 158,
   "metadata": {},
   "outputs": [
    {
     "data": {
      "text/plain": [
       "[<matplotlib.lines.Line2D at 0x1ba32d04390>]"
      ]
     },
     "execution_count": 158,
     "metadata": {},
     "output_type": "execute_result"
    },
    {
     "data": {
      "image/png": "[encoded data removed]",
      "text/plain": [
       "<Figure size 432x288 with 1 Axes>"
      ]
     },
     "metadata": {
      "needs_background": "light"
     },
     "output_type": "display_data"
    }
   ],
   "source": [
    "#Bell shape graph\n",
    "import scipy.stats\n",
    "np.random.seed(1234) #makes random number predictable\n",
    "samples=np.random.lognormal(mean=2.,sigma=.3,size=10000) #takes mean and variance\n",
    "shape,loc,scale=scipy.stats.lognorm.fit(samples,floc=0)\n",
    "num_bins=60\n",
    "clr=\"#EFEFEF\" #sets color\n",
    "counts,edges,patches=plt.hist(samples,bins=num_bins,color=clr)\n",
    "centers=0.5*(edges[:-1]+edges[1:])\n",
    "cdf=scipy.stats.lognorm.cdf(edges,shape,loc=loc,scale=scale)\n",
    "prob=np.diff(cdf)\n",
    "plt.plot(centers,samples.size*prob,'k-',linewidth=2)"
   ]
  },
  {
   "cell_type": "code",
   "execution_count": null,
   "metadata": {},
   "outputs": [],
   "source": [
    "plt.show()"
   ]
  },
  {
   "cell_type": "code",
   "execution_count": null,
   "metadata": {},
   "outputs": [],
   "source": []
  },
  {
   "cell_type": "code",
   "execution_count": null,
   "metadata": {},
   "outputs": [],
   "source": []
  },
  {
   "cell_type": "markdown",
   "metadata": {},
   "source": [
    "#### 4. Explanation of the use of seeds in generating pseudorandom numbers."
   ]
  },
  {
   "cell_type": "code",
   "execution_count": null,
   "metadata": {},
   "outputs": [],
   "source": []
  },
  {
   "cell_type": "code",
   "execution_count": null,
   "metadata": {},
   "outputs": [],
   "source": []
  },
  {
   "cell_type": "code",
   "execution_count": null,
   "metadata": {},
   "outputs": [],
   "source": []
  },
  {
   "cell_type": "code",
   "execution_count": null,
   "metadata": {},
   "outputs": [],
   "source": []
  },
  {
   "cell_type": "markdown",
   "metadata": {},
   "source": [
    "## Reference:\n",
    "1. Video on basics of numpy https://www.youtube.com/watch?v=o8fmjaW9a0A \n",
    "2. Explains random numbers with python https://machinelearningmastery.com/how-to-generate-random-numbers-in-python/ \n",
    "3. Good examples and simple on numy random https://realpython.com/python-random/\n",
    "4. nump.random library https://docs.scipy.org/doc/numpy-1.13.0/reference/routines.random.html#simple-random-data\n",
    "5. Uniform distribution https://www.investopedia.com/terms/u/uniform-distribution.asp#ixzz5W1SBNSMA\n",
    "6. Hypergeometric distibution https://blog.alexlenail.me/understanding-and-implementing-the-hypergeometric-test-in-python-a7db688a7458 \n",
    "7. Binomial https://bigdata-madesimple.com/how-to-implement-these-5-powerful-probability-distributions-in-python/\n",
    "8. Distribution https://data-flair.training/blogs/scipy-tutorial/ \n",
    "9. Normal and Poisson Distribution https://data-flair.training/blogs/python-probability-distributions/"
   ]
  },
  {
   "cell_type": "code",
   "execution_count": null,
   "metadata": {},
   "outputs": [],
   "source": []
  },
  {
   "cell_type": "code",
   "execution_count": null,
   "metadata": {},
   "outputs": [],
   "source": []
  },
  {
   "cell_type": "code",
   "execution_count": null,
   "metadata": {},
   "outputs": [],
   "source": []
  },
  {
   "cell_type": "code",
   "execution_count": null,
   "metadata": {},
   "outputs": [],
   "source": []
  },
  {
   "cell_type": "code",
   "execution_count": null,
   "metadata": {},
   "outputs": [],
   "source": []
  },
  {
   "cell_type": "code",
   "execution_count": null,
   "metadata": {},
   "outputs": [],
   "source": []
  },
  {
   "cell_type": "code",
   "execution_count": null,
   "metadata": {},
   "outputs": [],
   "source": []
  }
 ],
 "metadata": {
  "kernelspec": {
   "display_name": "Python 3",
   "language": "python",
   "name": "python3"
  },
  "language_info": {
   "codemirror_mode": {
    "name": "ipython",
    "version": 3
   },
   "file_extension": ".py",
   "mimetype": "text/x-python",
   "name": "python",
   "nbconvert_exporter": "python",
   "pygments_lexer": "ipython3",
   "version": "3.7.0"
  }
 },
 "nbformat": 4,
 "nbformat_minor": 2
}
