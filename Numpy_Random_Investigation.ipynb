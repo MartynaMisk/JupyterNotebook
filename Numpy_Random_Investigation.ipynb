{
 "cells": [
  {
   "cell_type": "markdown",
   "metadata": {},
   "source": [
    "# Numpy.Random Package Investigation\n",
    "Programming for Data Analysis; Assignment 2018"
   ]
  },
  {
   "cell_type": "markdown",
   "metadata": {},
   "source": [
    "### Overview of the areas of investigation:\n",
    "In this jupyter notebook I will focus my investigation on following areas:\n",
    "1. Explanation of the overall purpose of the package Numpy.Random. \n",
    "2. Explanation of the use of the “Simple random data” and “Permutations” functions. \n",
    "3. Explanation of the use and purpose of at least ﬁve “Distributions” functions. \n",
    "4. Explanation of the use of seeds in generating pseudorandom numbers.\n",
    "\n",
    "###### Above four tasks will be clearly exaplined below to my best knowledge using code to showcase the numpy.random data package."
   ]
  },
  {
   "cell_type": "markdown",
   "metadata": {},
   "source": [
    "#### 1. Expalanation of the overall purpose of the package Numpy.Random.\n",
    "\n",
    "Numpy.Random package is a sub-package of the NumPy package in Python. NumPy represents numerical python manipulation of data. NumPy biggets advantage is that it perfoms calculation over entire arrays. Numpy.Random package main purpose is to generate sequence of random numbers, this package contains different functions that allows you to do it. In this Notebook I will focus on how those functions within numpy.random package operate and generate sequence of random numbers. Numpy.Random uses its own PRNG (Pseudorandom number generator)that is separate from plain old random which I found very interesting. \n",
    "\n",
    "Random sampling (numpy.random) package contains simple random data, permutations, distributions and random generator sections and each contains a number of functions that help us plot and generate random sampling.\n",
    "\n"
   ]
  },
  {
   "cell_type": "code",
   "execution_count": 2,
   "metadata": {},
   "outputs": [],
   "source": [
    "#to import an image I need the Python package\n",
    "from IPython.display import Image"
   ]
  },
  {
   "cell_type": "code",
   "execution_count": 3,
   "metadata": {},
   "outputs": [
    {
     "data": {
      "image/jpeg": "[encoded data removed]",
      "text/plain": [
       "<IPython.core.display.Image object>"
      ]
     },
     "execution_count": 3,
     "metadata": {
      "image/jpeg": {
       "height": 200,
       "width": 400
      }
     },
     "output_type": "execute_result"
    }
   ],
   "source": [
    "img_path = 'C:/Users/I333202/Desktop/img/numpylogo.jpg'\n",
    "Image(img_path, width=400, height=200)"
   ]
  },
  {
   "cell_type": "markdown",
   "metadata": {},
   "source": [
    "#### 2. Expalanation  of the use of the “Simple random data” and “Permutations” functions.\n",
    "\n",
    "Simple random data sections contains different functions that return random integers in different size,length, shape, low to high inclusice etc. Below code will represent few of the functions that helped me understand simple random data generation section. Permutations sections contains 'numpy.random.shuffle' and 'numpy.random.permutation' functions; both perform similar function where 'numpy.random.shuffle' changes the numpy array in place where 'numpy.random.permutation' doesn’t change when an integers is passed thought it."
   ]
  },
  {
   "cell_type": "markdown",
   "metadata": {},
   "source": [
    "##### Libraries"
   ]
  },
  {
   "cell_type": "code",
   "execution_count": 4,
   "metadata": {},
   "outputs": [],
   "source": [
    "#import libraries \n",
    "import numpy as np\n",
    "import seaborn as sns # seaborn: statistical data visualization\n",
    "import matplotlib.pyplot as plt"
   ]
  },
  {
   "cell_type": "markdown",
   "metadata": {},
   "source": [
    "##### Following 'simple random data' funcitons will be explained:\n",
    "- np.random.rand\n",
    "- np.random.randint\n",
    "- np.random_sample\n",
    "- np.random.choice"
   ]
  },
  {
   "cell_type": "code",
   "execution_count": 5,
   "metadata": {
    "scrolled": false
   },
   "outputs": [
    {
     "data": {
      "text/plain": [
       "array([[0.87913403, 0.40446027, 0.51919397, 0.05308838, 0.75155991],\n",
       "       [0.96620393, 0.87912927, 0.28333333, 0.34780117, 0.78088364],\n",
       "       [0.32730968, 0.71083135, 0.48211414, 0.72383946, 0.74173982],\n",
       "       [0.73350387, 0.28645017, 0.42509028, 0.80936626, 0.93123021]])"
      ]
     },
     "execution_count": 5,
     "metadata": {},
     "output_type": "execute_result"
    }
   ],
   "source": [
    "np.random.rand(4,5) #generates 4 lines and 5 columns of array between 0 and 1 in no particular order. \n",
    "#Everytime the code is ran the output changes the array of numbers."
   ]
  },
  {
   "cell_type": "code",
   "execution_count": 6,
   "metadata": {},
   "outputs": [
    {
     "data": {
      "text/plain": [
       "array([[4, 3, 0, 3],\n",
       "       [3, 0, 2, 0]])"
      ]
     },
     "execution_count": 6,
     "metadata": {},
     "output_type": "execute_result"
    }
   ],
   "source": [
    "np.random.randint(5, size=(2,4))#This generates integers between 0 and 5 in no order in 2 arrays and 4 columns.\n",
    "#randint function has half-open interval [low, high], and 0 is the lowest value if high is omitted."
   ]
  },
  {
   "cell_type": "code",
   "execution_count": 7,
   "metadata": {},
   "outputs": [
    {
     "data": {
      "text/plain": [
       "0"
      ]
     },
     "execution_count": 7,
     "metadata": {},
     "output_type": "execute_result"
    }
   ],
   "source": [
    "np.random.randint(0,1) #This will only generate either 0 or 1; example for head and tails of a coin:"
   ]
  },
  {
   "cell_type": "code",
   "execution_count": 8,
   "metadata": {},
   "outputs": [],
   "source": [
    "#This example is of rolling two six sided dice 1000 times and summing up the results in a histogram.\n",
    "d1 = np.random.randint(1, 6, 1000) \n",
    "d2 = np.random.randint(1, 6, 1000) \n",
    "dsums = d1 + d2\n",
    "#Below I will display the result in a histogram."
   ]
  },
  {
   "cell_type": "code",
   "execution_count": 9,
   "metadata": {},
   "outputs": [
    {
     "data": {
      "image/png": "[encoded data removed]",
      "text/plain": [
       "<Figure size 432x288 with 1 Axes>"
      ]
     },
     "metadata": {
      "needs_background": "light"
     },
     "output_type": "display_data"
    }
   ],
   "source": [
    "count, bins, ignored = plt.hist(dsums, 11, density=True)\n",
    "plt.show()"
   ]
  },
  {
   "cell_type": "code",
   "execution_count": 10,
   "metadata": {},
   "outputs": [
    {
     "data": {
      "text/plain": [
       "array([0.51980883, 0.99001346])"
      ]
     },
     "execution_count": 10,
     "metadata": {},
     "output_type": "execute_result"
    }
   ],
   "source": [
    "#'np.random_sample' generates an array of random numbers depending on how many numbers is set.\n",
    "#The intervals are between 0 and 1\n",
    "#This example will return two intervals between 0 and 1.\n",
    "np.random.random_sample(2)"
   ]
  },
  {
   "cell_type": "code",
   "execution_count": 11,
   "metadata": {},
   "outputs": [
    {
     "data": {
      "text/plain": [
       "array([0.06945065, 0.18095201, 0.5992799 , 0.2096258 ])"
      ]
     },
     "execution_count": 11,
     "metadata": {},
     "output_type": "execute_result"
    }
   ],
   "source": [
    "np.random.random_sample(4) # this returns four intervals"
   ]
  },
  {
   "cell_type": "code",
   "execution_count": 12,
   "metadata": {},
   "outputs": [
    {
     "data": {
      "text/plain": [
       "array([[-3.83872073, -1.54286893, -2.03137511],\n",
       "       [-5.00723305, -2.41675411, -1.3750479 ],\n",
       "       [-7.30155909, -1.79334478, -0.34742878],\n",
       "       [-5.72508579, -2.75640991, -4.32179163]])"
      ]
     },
     "execution_count": 12,
     "metadata": {},
     "output_type": "execute_result"
    }
   ],
   "source": [
    "#4-by-3 array of random numbers from [-8, 0):\n",
    "8 * np.random.random_sample((4, 3)) - 8"
   ]
  },
  {
   "cell_type": "code",
   "execution_count": 13,
   "metadata": {},
   "outputs": [
    {
     "data": {
      "text/plain": [
       "True"
      ]
     },
     "execution_count": 13,
     "metadata": {},
     "output_type": "execute_result"
    }
   ],
   "source": [
    "np.random.random_sample is np.random.random \n",
    "#To check if np.random.random is an aliases of np.random.random_sample?\n",
    "#it is."
   ]
  },
  {
   "cell_type": "code",
   "execution_count": 14,
   "metadata": {},
   "outputs": [],
   "source": [
    "#'np.random.choice' proides an outcome of random sample from a given 1-D array."
   ]
  },
  {
   "cell_type": "code",
   "execution_count": 15,
   "metadata": {},
   "outputs": [
    {
     "data": {
      "text/plain": [
       "array([1, 1, 0, 0, 1])"
      ]
     },
     "execution_count": 15,
     "metadata": {},
     "output_type": "execute_result"
    }
   ],
   "source": [
    "np.random.choice(3, 5) #provides random number between 0-2 and in an array of 5 numbers:"
   ]
  },
  {
   "cell_type": "code",
   "execution_count": 16,
   "metadata": {},
   "outputs": [
    {
     "data": {
      "text/plain": [
       "array([3, 7, 4, 3, 7, 2, 2, 2, 4, 6])"
      ]
     },
     "execution_count": 16,
     "metadata": {},
     "output_type": "execute_result"
    }
   ],
   "source": [
    "np.random.choice(8, 10) #provides random number between 0-7 and in an array of 10 numbers:"
   ]
  },
  {
   "cell_type": "code",
   "execution_count": 17,
   "metadata": {},
   "outputs": [
    {
     "data": {
      "text/plain": [
       "False"
      ]
     },
     "execution_count": 17,
     "metadata": {},
     "output_type": "execute_result"
    }
   ],
   "source": [
    "np.random.randint is np.random.choice # not an aliases but the functions are equivilant. \n",
    "#In above example 'np.random.choice(8, 10)' is equivilant to 'np.random.randint(0,8,10)'."
   ]
  },
  {
   "cell_type": "code",
   "execution_count": 18,
   "metadata": {},
   "outputs": [
    {
     "data": {
      "text/plain": [
       "array([4, 6, 7, 2, 5, 7, 0, 5, 2, 1])"
      ]
     },
     "execution_count": 18,
     "metadata": {},
     "output_type": "execute_result"
    }
   ],
   "source": [
    "np.random.randint(0,8,10)"
   ]
  },
  {
   "cell_type": "code",
   "execution_count": 19,
   "metadata": {},
   "outputs": [
    {
     "data": {
      "text/plain": [
       "array([ 1,  7, 10,  6])"
      ]
     },
     "execution_count": 19,
     "metadata": {},
     "output_type": "execute_result"
    }
   ],
   "source": [
    "np.random.choice(np.arange(11), 4, replace=False) #chooses 4 integers without replacement from [0,10]. \n",
    "#In conclusion, 'np.random.choice' can select elements from an array"
   ]
  },
  {
   "cell_type": "code",
   "execution_count": 20,
   "metadata": {},
   "outputs": [
    {
     "name": "stdout",
     "output_type": "stream",
     "text": [
      "pink is my favorite color\n"
     ]
    }
   ],
   "source": [
    "Colors = ['pink','blue','green','blue','grey'] #set number of different colors\n",
    "value = np.random.choice(Colors) #Set that colors will be generated randomly\n",
    "print(value + ' is my favorite color') #set the line we want to print when colors are generated"
   ]
  },
  {
   "cell_type": "markdown",
   "metadata": {},
   "source": [
    "##### Following 'Permutations' funcitons will be explained:\n",
    "- np.random.shuffle\n",
    "- np.random.permutation"
   ]
  },
  {
   "cell_type": "code",
   "execution_count": 21,
   "metadata": {},
   "outputs": [
    {
     "data": {
      "text/plain": [
       "array([ 0, 13,  7,  8, 12,  5, 14, 10,  1,  3, 11,  6,  9,  4,  2])"
      ]
     },
     "execution_count": 21,
     "metadata": {},
     "output_type": "execute_result"
    }
   ],
   "source": [
    "#'numpy.random.shuffle' functions shuffles (changes the order of the number) the array inplace.\n",
    "arr = np.arange(15)#you can notice it output shuffled numbers from 0 and goes as high as 14 in no order.\n",
    "np.random.shuffle(arr)\n",
    "arr"
   ]
  },
  {
   "cell_type": "code",
   "execution_count": 22,
   "metadata": {},
   "outputs": [
    {
     "name": "stdout",
     "output_type": "stream",
     "text": [
      "[12  0  3  6  9 11  2  8  1 10  7  5 13 14  4]\n"
     ]
    }
   ],
   "source": [
    "#I redeclared an array that has been shuffled earlier.\n",
    "x = arr\n",
    "#I have set new veriable 'y' to the content of the array to have a different output of the array.\n",
    "y = x[:]\n",
    "# shuffle the elements\n",
    "np.random.shuffle(y)\n",
    "# see the result of the shuffling\n",
    "print(y)"
   ]
  },
  {
   "cell_type": "code",
   "execution_count": 23,
   "metadata": {},
   "outputs": [
    {
     "data": {
      "text/plain": [
       "(array([2., 1., 2., 1., 1., 2., 1., 2., 1., 2.]),\n",
       " array([ 0. ,  1.4,  2.8,  4.2,  5.6,  7. ,  8.4,  9.8, 11.2, 12.6, 14. ]),\n",
       " <a list of 10 Patch objects>)"
      ]
     },
     "execution_count": 23,
     "metadata": {},
     "output_type": "execute_result"
    },
    {
     "data": {
      "image/png": "[encoded data removed]",
      "text/plain": [
       "<Figure size 432x288 with 1 Axes>"
      ]
     },
     "metadata": {
      "needs_background": "light"
     },
     "output_type": "display_data"
    }
   ],
   "source": [
    "plt.hist(x)"
   ]
  },
  {
   "cell_type": "code",
   "execution_count": 24,
   "metadata": {},
   "outputs": [
    {
     "data": {
      "text/plain": [
       "array([ 9, 11,  7, 12,  3,  6,  1,  8,  5, 13,  2,  0, 14,  4, 10])"
      ]
     },
     "execution_count": 24,
     "metadata": {},
     "output_type": "execute_result"
    }
   ],
   "source": [
    "#'numpy.random.permutation' function randomly changes a sequence, or return a permuted range. \n",
    "#This example uses as interger where \n",
    "np.random.permutation(15)"
   ]
  },
  {
   "cell_type": "code",
   "execution_count": 25,
   "metadata": {},
   "outputs": [
    {
     "data": {
      "text/plain": [
       "array([ 3,  5,  8, 13,  5])"
      ]
     },
     "execution_count": 25,
     "metadata": {},
     "output_type": "execute_result"
    }
   ],
   "source": [
    "#This example passes an array instead of interger by using 'np.random.permutation'\n",
    "np.random.permutation([3, 5, 8, 13, 5]) #returns a shuffled copy of the array"
   ]
  },
  {
   "cell_type": "markdown",
   "metadata": {},
   "source": [
    "#### 3. Explanation of the use and purpose of following “Distributions” functions. \n"
   ]
  },
  {
   "cell_type": "markdown",
   "metadata": {},
   "source": [
    "- Numpy Random Binomial \n",
    "- Numpy Random Paisson\n",
    "- Numpy Random Uniform\n",
    "- Numpy Random Hypergeometric\n",
    "- Numpy Random Normal"
   ]
  },
  {
   "cell_type": "markdown",
   "metadata": {},
   "source": [
    "-  Binomial (numpy.random.binomial)\n",
    "\n",
    "Binomial probabilty can only have two outcomes; either success or failure. Each performance of an action is independent of another trial. Most used example to explain Binomial distribution is to use tossing a coin example as it can either have a succesful outcome or not."
   ]
  },
  {
   "cell_type": "code",
   "execution_count": 26,
   "metadata": {},
   "outputs": [
    {
     "data": {
      "text/plain": [
       "array([2, 4, 3, 5, 4, 2, 3, 4, 5, 4, 3, 3, 2, 4, 2, 6, 3, 5, 4, 3, 6, 5,\n",
       "       4, 3, 6, 3, 4, 5, 5, 4, 4, 4, 1, 4, 4, 4, 4, 3, 4, 6, 6, 4, 6, 3,\n",
       "       5, 3, 5, 1, 4, 5, 5, 7, 7, 3, 5, 5, 2, 3, 4, 6, 6, 6, 3, 4, 5, 3,\n",
       "       6, 4, 3, 5, 5, 5, 5, 6, 4, 5, 3, 3, 5, 3, 4, 4, 3, 6, 4, 4, 5, 4,\n",
       "       4, 5, 3, 2, 4, 2, 6, 3, 4, 4, 1, 1])"
      ]
     },
     "execution_count": 26,
     "metadata": {},
     "output_type": "execute_result"
    }
   ],
   "source": [
    "n, p = 8, .5  # number of trials, probability of each trial\n",
    "np.random.binomial(n, p, 100)\n",
    "# result of flipping a coin 8 times, tested 100 times."
   ]
  },
  {
   "cell_type": "code",
   "execution_count": 27,
   "metadata": {},
   "outputs": [
    {
     "data": {
      "text/plain": [
       "array([5, 5, 3, 4, 4, 3, 4, 4, 7, 5, 2, 4, 6, 4, 5, 4, 3, 2, 3, 3, 2, 4,\n",
       "       2, 3, 4, 2, 5, 3, 2, 4, 6, 3, 3, 3, 6, 4, 0, 3, 1, 5, 6, 4, 5, 5,\n",
       "       1, 6, 6, 5, 2, 3, 4, 5, 4, 4, 3, 2, 7, 3, 3, 4, 2, 3, 5, 6, 3, 4,\n",
       "       4, 2, 5, 2, 2, 5, 1, 4, 2, 4, 5, 6, 1, 3, 6, 6, 5, 4, 4, 4, 3, 3,\n",
       "       5, 4, 6, 4, 4, 4, 6, 5, 3, 3, 3, 4])"
      ]
     },
     "execution_count": 27,
     "metadata": {},
     "output_type": "execute_result"
    }
   ],
   "source": [
    "n, p = 8, .5  # number of trials, probability of each trial\n",
    "np.random.binomial(n, p, 100)\n",
    "# result of flipping a coin 10 times, tested 1000 times."
   ]
  },
  {
   "cell_type": "code",
   "execution_count": 28,
   "metadata": {},
   "outputs": [
    {
     "name": "stderr",
     "output_type": "stream",
     "text": [
      "C:\\Users\\I333202\\AppData\\Local\\Continuum\\anaconda3\\lib\\site-packages\\scipy\\stats\\stats.py:1713: FutureWarning: Using a non-tuple sequence for multidimensional indexing is deprecated; use `arr[tuple(seq)]` instead of `arr[seq]`. In the future this will be interpreted as an array index, `arr[np.array(seq)]`, which will result either in an error or a different result.\n",
      "  return np.add.reduce(sorted[indexer] * weights, axis=axis) / sumval\n"
     ]
    },
    {
     "data": {
      "text/plain": [
       "[Text(0,0.5,'Frequency'), Text(0.5,0,'Binomial')]"
      ]
     },
     "execution_count": 28,
     "metadata": {},
     "output_type": "execute_result"
    },
    {
     "data": {
      "image/png": "[encoded data removed]",
      "text/plain": [
       "<Figure size 432x288 with 1 Axes>"
      ]
     },
     "metadata": {
      "needs_background": "light"
     },
     "output_type": "display_data"
    }
   ],
   "source": [
    "from scipy.stats import binom\n",
    "data=binom.rvs(n=17,p=0.7,loc=0,size=1010)\n",
    "ax=sns.distplot(data,\n",
    "                kde=True,\n",
    "                color='pink',\n",
    "                hist_kws={\"linewidth\": 22,'alpha':0.77})\n",
    "ax.set(xlabel='Binomial',ylabel='Frequency')"
   ]
  },
  {
   "cell_type": "markdown",
   "metadata": {},
   "source": [
    "-  Poisson (numpy.random.poisson)\n",
    "\n",
    "Poisson distribution expresses the proabability of number of given events happen in a fixed interval of time or space. This assumes that these events happen independent of the last even and at a constant rate.\n"
   ]
  },
  {
   "cell_type": "code",
   "execution_count": 29,
   "metadata": {},
   "outputs": [
    {
     "data": {
      "text/plain": [
       "array([3, 4, 4, ..., 4, 4, 7])"
      ]
     },
     "execution_count": 29,
     "metadata": {},
     "output_type": "execute_result"
    }
   ],
   "source": [
    "np.random.poisson(5, 10000) \n",
    "#5 represents lambda(fixed interval of time).\n",
    "#10000 represents the amount of time the event took place."
   ]
  },
  {
   "cell_type": "code",
   "execution_count": 30,
   "metadata": {},
   "outputs": [
    {
     "data": {
      "text/plain": [
       "array([12, 18, 10,  8,  7,  7, 11, 11,  8, 11])"
      ]
     },
     "execution_count": 30,
     "metadata": {},
     "output_type": "execute_result"
    }
   ],
   "source": [
    "np.random.poisson(10, 10)"
   ]
  },
  {
   "cell_type": "code",
   "execution_count": 59,
   "metadata": {},
   "outputs": [
    {
     "data": {
      "text/plain": [
       "array([9, 6, 7, 5, 7])"
      ]
     },
     "execution_count": 59,
     "metadata": {},
     "output_type": "execute_result"
    }
   ],
   "source": [
    "np.random.poisson(6, 5)"
   ]
  },
  {
   "cell_type": "code",
   "execution_count": 35,
   "metadata": {},
   "outputs": [
    {
     "data": {
      "text/plain": [
       "(array([0.00821333, 0.03253333, 0.08650667, 0.14858667, 0.18965333,\n",
       "        0.19253333, 0.15178667, 0.11424   , 0.06858667, 0.03968   ,\n",
       "        0.01973333, 0.00906667, 0.00373333, 0.00106667, 0.00053333,\n",
       "        0.00021333]),\n",
       " array([ 0.    ,  0.9375,  1.875 ,  2.8125,  3.75  ,  4.6875,  5.625 ,\n",
       "         6.5625,  7.5   ,  8.4375,  9.375 , 10.3125, 11.25  , 12.1875,\n",
       "        13.125 , 14.0625, 15.    ]),\n",
       " <a list of 16 Patch objects>)"
      ]
     },
     "execution_count": 35,
     "metadata": {},
     "output_type": "execute_result"
    },
    {
     "data": {
      "image/png": "[encoded data removed]",
      "text/plain": [
       "<Figure size 432x288 with 1 Axes>"
      ]
     },
     "metadata": {
      "needs_background": "light"
     },
     "output_type": "display_data"
    }
   ],
   "source": [
    "s=np.random.poisson(5, 10000)\n",
    "plt.hist(s,16,density=True,color='Green')"
   ]
  },
  {
   "cell_type": "code",
   "execution_count": 36,
   "metadata": {},
   "outputs": [
    {
     "data": {
      "text/plain": [
       "array([[ 5, 44],\n",
       "       [14, 54],\n",
       "       [15, 56],\n",
       "       [14, 45],\n",
       "       [ 4, 57],\n",
       "       [10, 55],\n",
       "       [ 5, 58],\n",
       "       [ 9, 55],\n",
       "       [14, 50],\n",
       "       [13, 48]])"
      ]
     },
     "execution_count": 36,
     "metadata": {},
     "output_type": "execute_result"
    }
   ],
   "source": [
    "np.random.poisson(lam=(10., 50.), size=(10, 2)) #example of drawing each 10 values for lambda 10 and 50:"
   ]
  },
  {
   "cell_type": "markdown",
   "metadata": {},
   "source": [
    "-  Uniform (numpy.random.uniform)\n",
    "\n",
    "Uniform Distribution functions is one of the distribution function which means that ['all outcomes are equally likely; each variable has the same probability that it will be the outcome'](https://www.investopedia.com/terms/u/uniform-distribution.asp#ixzz5W1SBNSMA)"
   ]
  },
  {
   "cell_type": "code",
   "execution_count": 37,
   "metadata": {},
   "outputs": [
    {
     "data": {
      "text/plain": [
       "array([-0.31363209, -0.74613421, -0.93168997, -0.93629342, -0.28066707,\n",
       "       -0.01646143, -0.13836219, -0.70084439, -0.5170972 , -0.52050071])"
      ]
     },
     "execution_count": 37,
     "metadata": {},
     "output_type": "execute_result"
    }
   ],
   "source": [
    "np.random.uniform(-1,0,10) # -1 is lower number and 0 is the highest it can go and 10 is the size"
   ]
  },
  {
   "cell_type": "code",
   "execution_count": 38,
   "metadata": {},
   "outputs": [
    {
     "data": {
      "text/plain": [
       "array([1.84961508, 2.84480056, 2.61759892, 1.33949792, 2.11162771,\n",
       "       1.27571449, 2.99821309, 2.22228417, 1.9194993 , 1.46861399])"
      ]
     },
     "execution_count": 38,
     "metadata": {},
     "output_type": "execute_result"
    }
   ],
   "source": [
    "np.random.uniform(1,3,10) #generates number between 1 and 4 "
   ]
  },
  {
   "cell_type": "code",
   "execution_count": 39,
   "metadata": {},
   "outputs": [
    {
     "data": {
      "text/plain": [
       "False"
      ]
     },
     "execution_count": 39,
     "metadata": {},
     "output_type": "execute_result"
    }
   ],
   "source": [
    "np.random.uniform(1,3,10) #All values are within 5 or more\n",
    "np.all(s >= 5) #outcome is true"
   ]
  },
  {
   "cell_type": "code",
   "execution_count": 40,
   "metadata": {},
   "outputs": [
    {
     "data": {
      "text/plain": [
       "False"
      ]
     },
     "execution_count": 40,
     "metadata": {},
     "output_type": "execute_result"
    }
   ],
   "source": [
    "np.random.uniform(1,3,10) #All values are within 11 or more\n",
    "np.all(s >= 11) # outcome is false"
   ]
  },
  {
   "cell_type": "code",
   "execution_count": 41,
   "metadata": {},
   "outputs": [
    {
     "data": {
      "text/plain": [
       "(array([2., 0., 1., 1., 0., 1., 0., 1., 2., 2.]),\n",
       " array([1.13179404, 1.29075016, 1.44970627, 1.60866238, 1.7676185 ,\n",
       "        1.92657461, 2.08553072, 2.24448684, 2.40344295, 2.56239906,\n",
       "        2.72135518]),\n",
       " <a list of 10 Patch objects>)"
      ]
     },
     "execution_count": 41,
     "metadata": {},
     "output_type": "execute_result"
    },
    {
     "data": {
      "image/png": "[encoded data removed]",
      "text/plain": [
       "<Figure size 432x288 with 1 Axes>"
      ]
     },
     "metadata": {
      "needs_background": "light"
     },
     "output_type": "display_data"
    }
   ],
   "source": [
    "y = np.random.uniform(1,3,10) \n",
    "#To plot this\n",
    "plt.hist(y) #The histogram changes eveyrtime the funcion is ran."
   ]
  },
  {
   "cell_type": "markdown",
   "metadata": {},
   "source": [
    "-  Hypergeometrics (numpy.random.hypergeometric)\n",
    "\n",
    "Hypergeometric distribution function describes the probability of success from a draw where population of the data has specific feature. The hypergeometric distribution is parameterized by:\n",
    "1. Ngood : making a good selection \n",
    "2. Nbad : making bad selection \n",
    "3. Nsample : no of items sampled  without replacement \n",
    "4. Size : population size "
   ]
  },
  {
   "cell_type": "code",
   "execution_count": 42,
   "metadata": {},
   "outputs": [],
   "source": [
    "s = np.random.hypergeometric(100, 2, 10, 1000) #This example is taken form the library\n",
    "#It could represent 100 red marbles, 2 black marbles, 10 draws."
   ]
  },
  {
   "cell_type": "code",
   "execution_count": 43,
   "metadata": {},
   "outputs": [
    {
     "data": {
      "text/plain": [
       "(array([ 14.,   0.,   0.,   0.,   0., 176.,   0.,   0.,   0., 810.]),\n",
       " array([ 8. ,  8.2,  8.4,  8.6,  8.8,  9. ,  9.2,  9.4,  9.6,  9.8, 10. ]),\n",
       " <a list of 10 Patch objects>)"
      ]
     },
     "execution_count": 43,
     "metadata": {},
     "output_type": "execute_result"
    },
    {
     "data": {
      "image/png": "[encoded data removed]",
      "text/plain": [
       "<Figure size 432x288 with 1 Axes>"
      ]
     },
     "metadata": {
      "needs_background": "light"
     },
     "output_type": "display_data"
    }
   ],
   "source": [
    "plt.hist(s)\n",
    "#Histogram demonstrates that the probability of drawing from the 10 sample will be mostly red marbles.\n",
    "#The probability of drawing the black marble is very unlikely. "
   ]
  },
  {
   "cell_type": "code",
   "execution_count": 44,
   "metadata": {},
   "outputs": [
    {
     "data": {
      "text/plain": [
       "0.28499"
      ]
     },
     "execution_count": 44,
     "metadata": {},
     "output_type": "execute_result"
    }
   ],
   "source": [
    "#I will use another example to explain the use of numpy.random.hypergeometircs\n",
    "#For example there is a box that contains 10 skittles (4 yellow and 6 green). \n",
    "#I randomly selected 5 out of the box which equals n=5 without putting them back into the box after each draw. \n",
    "#Under “null hypothesis”.\n",
    "\n",
    "r = np.random.hypergeometric(4, 6, 5, 100000) #What is the probability that 4 or more will be the same color?\n",
    "sum(r>=4)/100000. + sum(r<=1)/100000. #Now the probabilty is a lot lower"
   ]
  },
  {
   "cell_type": "code",
   "execution_count": 45,
   "metadata": {},
   "outputs": [
    {
     "data": {
      "text/plain": [
       "1.97661"
      ]
     },
     "execution_count": 45,
     "metadata": {},
     "output_type": "execute_result"
    }
   ],
   "source": [
    "t = np.random.hypergeometric(4, 6, 5, 100000) #What is the probability that 1 will be the same color?\n",
    "sum(t>=1)/100000. + sum(t<=4)/100000. #Now the probabilty is a lot higher"
   ]
  },
  {
   "cell_type": "code",
   "execution_count": 46,
   "metadata": {},
   "outputs": [
    {
     "data": {
      "text/plain": [
       "0.97659"
      ]
     },
     "execution_count": 46,
     "metadata": {},
     "output_type": "execute_result"
    }
   ],
   "source": [
    "r = np.random.hypergeometric(4, 6, 5, 100000) #What is the probability that 3 or less will be the same color?\n",
    "sum(r<=3)/100000. #The probabilty high"
   ]
  },
  {
   "cell_type": "code",
   "execution_count": 47,
   "metadata": {},
   "outputs": [
    {
     "data": {
      "text/plain": [
       "(array([ 2370.,     0., 23880.,     0.,     0., 47526.,     0., 23883.,\n",
       "            0.,  2341.]),\n",
       " array([0. , 0.4, 0.8, 1.2, 1.6, 2. , 2.4, 2.8, 3.2, 3.6, 4. ]),\n",
       " <a list of 10 Patch objects>)"
      ]
     },
     "execution_count": 47,
     "metadata": {},
     "output_type": "execute_result"
    },
    {
     "data": {
      "image/png": "[encoded data removed]",
      "text/plain": [
       "<Figure size 432x288 with 1 Axes>"
      ]
     },
     "metadata": {
      "needs_background": "light"
     },
     "output_type": "display_data"
    }
   ],
   "source": [
    "plt.hist(r)\n",
    "#Histogram represents 5 draws.\n",
    "#The probability of getting 2 of the same color is high.\n",
    "#The probability of getting 4 of the same color is very low."
   ]
  },
  {
   "cell_type": "markdown",
   "metadata": {},
   "source": [
    "Hypergeometric distribution is very similar to the binomial distribution, however in hypergeometrics distibution samples are drawn without replacement, whereas in the Binomial distibution samples are replaced."
   ]
  },
  {
   "cell_type": "markdown",
   "metadata": {},
   "source": [
    "-  Normal (np.random.normal)\n",
    "\n",
    "Normal distribution represents random variables in a graph that is shaped as a symmetrical bell. This function arranges the probability distribution for each value. This function is often called the bell curve because of its bell shape."
   ]
  },
  {
   "cell_type": "code",
   "execution_count": 48,
   "metadata": {},
   "outputs": [],
   "source": [
    "mu, sigma = 0, 0.1 # mean and standard deviation\n",
    "s = np.random.normal(mu, sigma, 1000)"
   ]
  },
  {
   "cell_type": "code",
   "execution_count": 49,
   "metadata": {},
   "outputs": [
    {
     "data": {
      "text/plain": [
       "True"
      ]
     },
     "execution_count": 49,
     "metadata": {},
     "output_type": "execute_result"
    }
   ],
   "source": [
    "abs(mu - np.mean(s)) < 0.01 #verifying the mean"
   ]
  },
  {
   "cell_type": "code",
   "execution_count": 50,
   "metadata": {},
   "outputs": [
    {
     "data": {
      "text/plain": [
       "True"
      ]
     },
     "execution_count": 50,
     "metadata": {},
     "output_type": "execute_result"
    }
   ],
   "source": [
    "abs(sigma - np.std(s, ddof=1)) < 0.01 #verifying the variance"
   ]
  },
  {
   "cell_type": "code",
   "execution_count": 51,
   "metadata": {},
   "outputs": [
    {
     "data": {
      "image/png": "[encoded data removed]",
      "text/plain": [
       "<Figure size 432x288 with 1 Axes>"
      ]
     },
     "metadata": {
      "needs_background": "light"
     },
     "output_type": "display_data"
    }
   ],
   "source": [
    "#Plotting histogram of the samples, along with the probability density function:\n",
    "count, bins, ignored = plt.hist(s, 30, density=True)\n",
    "plt.plot(bins, 1/(sigma * np.sqrt(2 * np.pi)) *\n",
    "               np.exp( - (bins - mu)**2 / (2 * sigma**2) ),\n",
    "         linewidth=2, color='r')\n",
    "plt.show()"
   ]
  },
  {
   "cell_type": "code",
   "execution_count": 52,
   "metadata": {},
   "outputs": [
    {
     "data": {
      "text/plain": [
       "[<matplotlib.lines.Line2D at 0x1fdc9e1eb70>]"
      ]
     },
     "execution_count": 52,
     "metadata": {},
     "output_type": "execute_result"
    },
    {
     "data": {
      "image/png": "[encoded data removed]",
      "text/plain": [
       "<Figure size 432x288 with 1 Axes>"
      ]
     },
     "metadata": {
      "needs_background": "light"
     },
     "output_type": "display_data"
    }
   ],
   "source": [
    "#Bell shape graph\n",
    "import scipy.stats\n",
    "np.random.seed(1234) #makes random number predictable\n",
    "samples=np.random.lognormal(mean=2.,sigma=.3,size=10000) #takes mean and variance\n",
    "shape,loc,scale=scipy.stats.lognorm.fit(samples,floc=0)\n",
    "num_bins=50\n",
    "clr=\"#EFEFEF\" #sets color\n",
    "counts,edges,patches=plt.hist(samples,bins=num_bins,color=clr)\n",
    "centers=0.5*(edges[:-1]+edges[1:])\n",
    "cdf=scipy.stats.lognorm.cdf(edges,shape,loc=loc,scale=scale)\n",
    "prob=np.diff(cdf)\n",
    "plt.plot(centers,samples.size*prob,'k-',linewidth=2)"
   ]
  },
  {
   "cell_type": "markdown",
   "metadata": {},
   "source": [
    "#### 4. Explanation of the use of seeds in generating pseudorandom numbers."
   ]
  },
  {
   "cell_type": "markdown",
   "metadata": {},
   "source": [
    "Seeds in psuedo random number generator return an output that has no clear formula that can be observed. There has been many libraries created in the programming language to generate random variables. These psuedo random number are generated by som ekin dof algorythm that runs in the backround to give the output of random numbers. The seed is this so called algorythm is the actual starting point. "
   ]
  },
  {
   "cell_type": "code",
   "execution_count": 53,
   "metadata": {},
   "outputs": [
    {
     "data": {
      "text/plain": [
       "2"
      ]
     },
     "execution_count": 53,
     "metadata": {},
     "output_type": "execute_result"
    }
   ],
   "source": [
    "#We will use function randint()\n",
    "np.random.randint(1, 10) #gives me a random integer between 1 and 10 \n",
    "#Everytime the code is ran different random number is generated."
   ]
  },
  {
   "cell_type": "code",
   "execution_count": 54,
   "metadata": {},
   "outputs": [
    {
     "data": {
      "text/plain": [
       "9"
      ]
     },
     "execution_count": 54,
     "metadata": {},
     "output_type": "execute_result"
    }
   ],
   "source": [
    "#if we use the seed everytime we will receive the same randomly generated nnumber.\n",
    "import random\n",
    "np.random.seed(9001)\n",
    "np.random.randint(0, 10)"
   ]
  },
  {
   "cell_type": "code",
   "execution_count": 55,
   "metadata": {},
   "outputs": [
    {
     "data": {
      "text/plain": [
       "array([4, 0, 1, 3])"
      ]
     },
     "execution_count": 55,
     "metadata": {},
     "output_type": "execute_result"
    }
   ],
   "source": [
    "#I will use an example already used in randint's explanation to show an array of randomly generated numbers.\n",
    "np.random.randint(5, size=(4)) \n",
    "#The output will be a generated array of 4 randomly selected integers between 0 and 5. "
   ]
  },
  {
   "cell_type": "code",
   "execution_count": 56,
   "metadata": {},
   "outputs": [
    {
     "data": {
      "text/plain": [
       "array([4, 2, 0, 0])"
      ]
     },
     "execution_count": 56,
     "metadata": {},
     "output_type": "execute_result"
    }
   ],
   "source": [
    "np.random.randint(5, size=(4)) \n",
    "#When I run the code again I can see the result in different because it randomly geenrates another outcome."
   ]
  },
  {
   "cell_type": "code",
   "execution_count": 57,
   "metadata": {},
   "outputs": [
    {
     "data": {
      "text/plain": [
       "array([2, 4, 2, 1])"
      ]
     },
     "execution_count": 57,
     "metadata": {},
     "output_type": "execute_result"
    }
   ],
   "source": [
    "np.random.seed(123) #I will use the seed now for the same example.\n",
    "np.random.randint(5, size=(4)) \n",
    "#The seed has began the algorythm at a certain point and generated a list of randomly selected numbers.\n",
    "#This list should be exactly the same if the same seed is ran."
   ]
  },
  {
   "cell_type": "code",
   "execution_count": 58,
   "metadata": {},
   "outputs": [
    {
     "data": {
      "text/plain": [
       "array([2, 4, 2, 1])"
      ]
     },
     "execution_count": 58,
     "metadata": {},
     "output_type": "execute_result"
    }
   ],
   "source": [
    "np.random.seed(123) #using the same seed as above\n",
    "np.random.randint(5, size=(4)) #results are identical"
   ]
  },
  {
   "cell_type": "markdown",
   "metadata": {},
   "source": [
    "## Conclusion:\n",
    "In this exercise I had the opportunity to find out the overall purpose of the package NumPy. Random which I found very interesting. At the beginning I did a lot of research as I needed to get general knowledge of the package and its purpose before starting the assignment. Then, I investigated “Simple random data” and “Permutations” functions within the package. I found explanation of 'Distributions' most challenging in this assignment as I needed to touch back on probabilities in statistics to fully understand the function of the distributions. However, after some research and many failed and successful attempts to code and explain the functions I found it very interesting and intriguing."
   ]
  },
  {
   "cell_type": "markdown",
   "metadata": {},
   "source": [
    "## Reference:\n",
    "1. Video on basics of numpy https://www.youtube.com/watch?v=o8fmjaW9a0A \n",
    "2. Explains random numbers with python https://machinelearningmastery.com/how-to-generate-random-numbers-in-python/ \n",
    "3. Good examples and simple on numy random https://realpython.com/python-random/\n",
    "4. nump.random library https://docs.scipy.org/doc/numpy-1.13.0/reference/routines.random.html#simple-random-data\n",
    "5. Uniform distribution https://www.investopedia.com/terms/u/uniform-distribution.asp#ixzz5W1SBNSMA\n",
    "6. Hypergeometric distibution https://blog.alexlenail.me/understanding-and-implementing-the-hypergeometric-test-in-python-a7db688a7458 \n",
    "7. Binomial https://bigdata-madesimple.com/how-to-implement-these-5-powerful-probability-distributions-in-python/\n",
    "8. Distribution https://data-flair.training/blogs/scipy-tutorial/ \n",
    "9. Normal and Poisson Distribution https://data-flair.training/blogs/python-probability-distributions/\n",
    "10. Seeds explanation https://www.quora.com/What-is-seed-in-random-number-generation"
   ]
  }
 ],
 "metadata": {
  "kernelspec": {
   "display_name": "Python 3",
   "language": "python",
   "name": "python3"
  },
  "language_info": {
   "codemirror_mode": {
    "name": "ipython",
    "version": 3
   },
   "file_extension": ".py",
   "mimetype": "text/x-python",
   "name": "python",
   "nbconvert_exporter": "python",
   "pygments_lexer": "ipython3",
   "version": "3.7.0"
  }
 },
 "nbformat": 4,
 "nbformat_minor": 2
}
